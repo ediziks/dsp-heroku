{
 "cells": [
  {
   "cell_type": "code",
   "execution_count": 1,
   "metadata": {},
   "outputs": [],
   "source": [
    "import pandas as pd\n",
    "import numpy as np\n",
    "import matplotlib.pyplot as plt"
   ]
  },
  {
   "cell_type": "code",
   "execution_count": 14,
   "metadata": {},
   "outputs": [
    {
     "name": "stdout",
     "output_type": "stream",
     "text": [
      "value/count\n"
     ]
    },
    {
     "data": {
      "text/plain": [
       "1    500\n",
       "2    500\n",
       "3    500\n",
       "0    500\n",
       "Name: price_range, dtype: int64"
      ]
     },
     "execution_count": 14,
     "metadata": {},
     "output_type": "execute_result"
    }
   ],
   "source": [
    "df = pd.read_csv('data/train.csv')\n",
    "print('value/count')\n",
    "df['price_range'].value_counts()"
   ]
  },
  {
   "cell_type": "markdown",
   "metadata": {},
   "source": [
    "1 Battery Power in mAh\n",
    "2 Has BlueTooth or not\n",
    "3 Microprocessor clock speed\n",
    "4 The phone has dual sim support or not\n",
    "5 Front Camera Megapixels\n",
    "6 Has 4G support or not\n",
    "7 Internal Memory in GigaBytes\n",
    "8 Mobile Depth in Cm\n",
    "9 Weight of Mobile Phone\n",
    "10 Number of cores in the processor\n",
    "11 Primary Camera Megapixels\n",
    "12 Pixel Resolution height\n",
    "13 Pixel resolution width\n",
    "14 RAM in MB\n",
    "15 Mobile screen height in cm\n",
    "16 Mobile screen width in cm\n",
    "17 Longest time after a single charge\n",
    "18 3g or not\n",
    "19 Has touch screen or not\n",
    "20 Has wifi or not"
   ]
  }
 ],
 "metadata": {
  "interpreter": {
   "hash": "c174fe2373f92465e3736e77ce4ae2d1bc80132ad619aca37356059c8cd81f57"
  },
  "kernelspec": {
   "display_name": "Python 3.8.13",
   "language": "python",
   "name": "python3"
  },
  "language_info": {
   "codemirror_mode": {
    "name": "ipython",
    "version": 3
   },
   "file_extension": ".py",
   "mimetype": "text/x-python",
   "name": "python",
   "nbconvert_exporter": "python",
   "pygments_lexer": "ipython3",
   "version": "3.8.13"
  },
  "orig_nbformat": 4
 },
 "nbformat": 4,
 "nbformat_minor": 2
}
